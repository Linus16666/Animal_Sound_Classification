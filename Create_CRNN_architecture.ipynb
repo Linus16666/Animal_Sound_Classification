{
 "cells": [
  {
   "cell_type": "code",
   "execution_count": 1,
   "id": "3f022f60",
   "metadata": {},
   "outputs": [
    {
     "name": "stdout",
     "output_type": "stream",
     "text": [
      "Requirement already satisfied: torch in c:\\users\\linus\\miniconda3\\envs\\animal-sound-ml\\lib\\site-packages (2.7.1)\n",
      "Requirement already satisfied: filelock in c:\\users\\linus\\miniconda3\\envs\\animal-sound-ml\\lib\\site-packages (from torch) (3.18.0)\n",
      "Requirement already satisfied: typing-extensions>=4.10.0 in c:\\users\\linus\\miniconda3\\envs\\animal-sound-ml\\lib\\site-packages (from torch) (4.14.1)\n",
      "Requirement already satisfied: sympy>=1.13.3 in c:\\users\\linus\\miniconda3\\envs\\animal-sound-ml\\lib\\site-packages (from torch) (1.14.0)\n",
      "Requirement already satisfied: networkx in c:\\users\\linus\\miniconda3\\envs\\animal-sound-ml\\lib\\site-packages (from torch) (3.4.2)\n",
      "Requirement already satisfied: jinja2 in c:\\users\\linus\\miniconda3\\envs\\animal-sound-ml\\lib\\site-packages (from torch) (3.1.6)\n",
      "Requirement already satisfied: fsspec in c:\\users\\linus\\miniconda3\\envs\\animal-sound-ml\\lib\\site-packages (from torch) (2025.5.1)\n",
      "Requirement already satisfied: mpmath<1.4,>=1.1.0 in c:\\users\\linus\\miniconda3\\envs\\animal-sound-ml\\lib\\site-packages (from sympy>=1.13.3->torch) (1.3.0)\n",
      "Requirement already satisfied: MarkupSafe>=2.0 in c:\\users\\linus\\miniconda3\\envs\\animal-sound-ml\\lib\\site-packages (from jinja2->torch) (3.0.2)\n",
      "Note: you may need to restart the kernel to use updated packages.\n"
     ]
    }
   ],
   "source": [
    "%pip install torch\n",
    "import torch\n",
    "import torch.nn as nn\n",
    "import torch.nn.functional as F"
   ]
  },
  {
   "cell_type": "code",
   "execution_count": null,
   "id": "db02e76a",
   "metadata": {},
   "outputs": [],
   "source": [
    "class CRNN(torch.nn.Module):\n",
    "    def __init__(self, n_mels=128, n_classes=50): #classes depends on how i want to classify, need to thing about that\n",
    "        super().__init__()\n",
    "        self.conv1 = nn.Sequential(\n",
    "            nn.Conv2d(1, 32, 3, padding=1),\n",
    "            nn.BatchNorm2d(32),\n",
    "            nn.ReLU(),\n",
    "            nn.MaxPool2d(2)\n",
    "        )\n",
    "        self.conv2 = nn.Sequential(\n",
    "            nn.Conv2d(1, 64, 3, padding=1),\n",
    "            nn.BatchNorm2d(64),\n",
    "            nn.ReLU(),\n",
    "            nn.MaxPool2d(2)\n",
    "        )\n",
    "        \n",
    "        rnn_in = 64 * (n_mels // 4)\n",
    "        self.rnn = nn.LSTM(\n",
    "            input_size=rnn_in,\n",
    "            hidden_size=128,\n",
    "            num_layers=2,\n",
    "            batch_first=True,\n",
    "            bidirectional=True,\n",
    "            dropout=0.3\n",
    "        )\n",
    "        \n",
    "        self.fc == nn.Linear(256, n_classes)\n",
    "        \n",
    "        \n",
    "    def forward(self, x):\n",
    "        x=self.conv1(x)\n",
    "        x=self.conv2(x)\n",
    "        B, C, F, T = x.size()\n",
    "        x = x.permute(0, 3, 1, 2)\n",
    "        x = x.reshape(B, T, C * F)\n",
    "        self.rnn.flatten_parameters()\n",
    "        out, _ = self.rnn(x)\n",
    "        out = out.mean(dim=1)\n",
    "        return self.fc(out)\n",
    "    \n",
    "        \n",
    "        \n",
    "        "
   ]
  }
 ],
 "metadata": {
  "kernelspec": {
   "display_name": "animal-sound-ml",
   "language": "python",
   "name": "python3"
  },
  "language_info": {
   "codemirror_mode": {
    "name": "ipython",
    "version": 3
   },
   "file_extension": ".py",
   "mimetype": "text/x-python",
   "name": "python",
   "nbconvert_exporter": "python",
   "pygments_lexer": "ipython3",
   "version": "3.10.18"
  }
 },
 "nbformat": 4,
 "nbformat_minor": 5
}
